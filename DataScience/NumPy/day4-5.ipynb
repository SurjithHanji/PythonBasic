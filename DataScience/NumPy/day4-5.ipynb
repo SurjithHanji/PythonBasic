{
 "cells": [
  {
   "cell_type": "code",
   "execution_count": null,
   "id": "8b3329f7-b600-4fe2-ac33-1807b302f3ad",
   "metadata": {},
   "outputs": [],
   "source": [
    "##################               Zeros      ###############"
   ]
  },
  {
   "cell_type": "code",
   "execution_count": 10,
   "id": "ce864e90-7b31-4490-814c-21dd31e5f7d6",
   "metadata": {},
   "outputs": [
    {
     "name": "stdout",
     "output_type": "stream",
     "text": [
      "[0. 0. 0. 0.]\n",
      "\n",
      "[[0. 0. 0. 0.]\n",
      " [0. 0. 0. 0.]\n",
      " [0. 0. 0. 0.]]\n",
      "2\n"
     ]
    }
   ],
   "source": [
    "import numpy as np\n",
    "\n",
    "ar_zero=np.zeros(4)\n",
    "\n",
    "arr=np.zeros((3,4))\n",
    "print(ar_zero)\n",
    "print()\n",
    "print(arr)\n",
    "\n",
    "print(arr.ndim)"
   ]
  },
  {
   "cell_type": "code",
   "execution_count": 11,
   "id": "19d2e723-55d1-4470-aacd-7e070bd45afa",
   "metadata": {},
   "outputs": [
    {
     "name": "stdout",
     "output_type": "stream",
     "text": [
      "[1. 1. 1. 1. 1.]\n",
      "\n",
      "[[1. 1. 1. 1.]\n",
      " [1. 1. 1. 1.]\n",
      " [1. 1. 1. 1.]\n",
      " [1. 1. 1. 1.]]\n",
      "2\n"
     ]
    }
   ],
   "source": [
    "import numpy as np\n",
    "\n",
    "jstone=np.ones(5)\n",
    "ar_one=np.ones((4,4))\n",
    "\n",
    "print(jstone)\n",
    "print()\n",
    "print(ar_one)\n",
    "\n",
    "print(ar_one.ndim)"
   ]
  },
  {
   "cell_type": "code",
   "execution_count": null,
   "id": "a8402bc8-cf21-4013-8a99-970512e0eb26",
   "metadata": {},
   "outputs": [],
   "source": [
    "###############            EMPTY                  ###################"
   ]
  },
  {
   "cell_type": "code",
   "execution_count": 12,
   "id": "ce5aeb80-3dc0-4fd2-bb32-21fed2afe0d3",
   "metadata": {},
   "outputs": [
    {
     "name": "stdout",
     "output_type": "stream",
     "text": [
      "[0. 0. 0. 0.]\n"
     ]
    }
   ],
   "source": [
    "ar_em=np.empty(4)\n",
    "print(ar_em)"
   ]
  },
  {
   "cell_type": "code",
   "execution_count": null,
   "id": "a41092f3-1249-49bd-9388-35ebdc13493f",
   "metadata": {},
   "outputs": [],
   "source": [
    "#############     Range              ########"
   ]
  },
  {
   "cell_type": "code",
   "execution_count": 13,
   "id": "0f4a6087-87da-46b5-a72f-39b4c88168b1",
   "metadata": {},
   "outputs": [
    {
     "name": "stdout",
     "output_type": "stream",
     "text": [
      "[0 1 2 3]\n"
     ]
    }
   ],
   "source": [
    "ar_rn=np.arange(4)\n",
    "print(ar_rn)"
   ]
  },
  {
   "cell_type": "code",
   "execution_count": 14,
   "id": "04b7e816-ca2a-4ab6-adc5-847d86914b72",
   "metadata": {},
   "outputs": [
    {
     "name": "stdout",
     "output_type": "stream",
     "text": [
      "[0 2 4 6 8]\n"
     ]
    }
   ],
   "source": [
    "ar=np.arange(0,10,2)\n",
    "print(ar)"
   ]
  },
  {
   "cell_type": "code",
   "execution_count": null,
   "id": "d7a1505a-bf8a-4977-943f-226c39163360",
   "metadata": {},
   "outputs": [],
   "source": [
    "###########          Diagonal Matrix           ##############"
   ]
  },
  {
   "cell_type": "code",
   "execution_count": 15,
   "id": "31aaadcf-7612-4e8d-a94c-1381e025bd17",
   "metadata": {},
   "outputs": [
    {
     "name": "stdout",
     "output_type": "stream",
     "text": [
      "[[1. 0. 0.]\n",
      " [0. 1. 0.]\n",
      " [0. 0. 1.]]\n"
     ]
    }
   ],
   "source": [
    "ar_dia=np.eye(3)\n",
    "print(ar_dia)"
   ]
  },
  {
   "cell_type": "code",
   "execution_count": 17,
   "id": "a0831506-e095-44a5-8b58-f8bdd895e840",
   "metadata": {},
   "outputs": [
    {
     "name": "stdout",
     "output_type": "stream",
     "text": [
      "[[1. 0. 0. 0. 0.]\n",
      " [0. 1. 0. 0. 0.]\n",
      " [0. 0. 1. 0. 0.]]\n"
     ]
    }
   ],
   "source": [
    "ar_dia=np.eye(3,5)\n",
    "print(ar_dia)"
   ]
  },
  {
   "cell_type": "code",
   "execution_count": null,
   "id": "dd0ad212-2819-4b29-8344-985def101b3d",
   "metadata": {},
   "outputs": [],
   "source": [
    "###############         linspace           ###############"
   ]
  },
  {
   "cell_type": "code",
   "execution_count": 20,
   "id": "8c3cd8e8-46db-4dea-9b58-e8b1a39df64e",
   "metadata": {},
   "outputs": [
    {
     "name": "stdout",
     "output_type": "stream",
     "text": [
      "[ 0.  5. 10. 15. 20.]\n"
     ]
    }
   ],
   "source": [
    "ar_lin=np.linspace(0,20,num=5)\n",
    "print(ar_lin)"
   ]
  },
  {
   "cell_type": "code",
   "execution_count": null,
   "id": "6ac47aac-28e0-43bb-86e4-0a878ec1da67",
   "metadata": {},
   "outputs": [],
   "source": [
    "##################          Random               ##############"
   ]
  },
  {
   "cell_type": "code",
   "execution_count": 21,
   "id": "825b8303-ad97-460d-87fb-a7ad2c06b24f",
   "metadata": {},
   "outputs": [
    {
     "name": "stdout",
     "output_type": "stream",
     "text": [
      "[0.92265844 0.61325526 0.34700762 0.23786   ]\n"
     ]
    }
   ],
   "source": [
    "import numpy as np\n",
    "\n",
    "var=np.random.rand(4)\n",
    "print(var)"
   ]
  },
  {
   "cell_type": "code",
   "execution_count": 25,
   "id": "08230010-72bb-4b78-89c3-8809c7d389b7",
   "metadata": {},
   "outputs": [
    {
     "name": "stdout",
     "output_type": "stream",
     "text": [
      "[-0.85417633  1.17563127]\n"
     ]
    }
   ],
   "source": [
    "var2=np.random.randn(2)\n",
    "print(var2)"
   ]
  },
  {
   "cell_type": "code",
   "execution_count": 26,
   "id": "2fe5c19a-66fc-40c1-bf0d-6024048b60f9",
   "metadata": {},
   "outputs": [
    {
     "name": "stdout",
     "output_type": "stream",
     "text": [
      "[0.56134263 0.58361379 0.2929694 ]\n"
     ]
    }
   ],
   "source": [
    "var3=np.random.ranf(3)\n",
    "print(var3)"
   ]
  },
  {
   "cell_type": "code",
   "execution_count": 30,
   "id": "7b12ef0e-b95f-4ac9-892a-9af650d0136d",
   "metadata": {},
   "outputs": [
    {
     "name": "stdout",
     "output_type": "stream",
     "text": [
      "80\n"
     ]
    }
   ],
   "source": [
    "var4=np.random.randint(4,100)\n",
    "print(var4)"
   ]
  },
  {
   "cell_type": "code",
   "execution_count": 31,
   "id": "e13cf515-5deb-4504-8e1b-c07a6f8fbb06",
   "metadata": {},
   "outputs": [
    {
     "name": "stdout",
     "output_type": "stream",
     "text": [
      "[17 75 10 12 55 87 46 25 88 48]\n"
     ]
    }
   ],
   "source": [
    "var4=np.random.randint(4,100,10)\n",
    "print(var4)"
   ]
  },
  {
   "cell_type": "code",
   "execution_count": null,
   "id": "183c34b2-b090-422f-a21a-6489fa7d9839",
   "metadata": {},
   "outputs": [],
   "source": []
  }
 ],
 "metadata": {
  "kernelspec": {
   "display_name": "Python 3 (ipykernel)",
   "language": "python",
   "name": "python3"
  },
  "language_info": {
   "codemirror_mode": {
    "name": "ipython",
    "version": 3
   },
   "file_extension": ".py",
   "mimetype": "text/x-python",
   "name": "python",
   "nbconvert_exporter": "python",
   "pygments_lexer": "ipython3",
   "version": "3.12.7"
  }
 },
 "nbformat": 4,
 "nbformat_minor": 5
}
