{
 "cells": [
  {
   "cell_type": "code",
   "execution_count": 5,
   "id": "d62a3f1d-52bd-401a-aa0f-18f3a609f18c",
   "metadata": {},
   "outputs": [
    {
     "name": "stdout",
     "output_type": "stream",
     "text": [
      "<class 'numpy.ndarray'>\n",
      "\n",
      "data type: int32\n",
      "[1 2 3 4 5]\n"
     ]
    }
   ],
   "source": [
    "import numpy as np\n",
    "\n",
    "var=np.array([1,2,3,4,5])\n",
    "\n",
    "print(type(var))\n",
    "print()\n",
    "print(\"data type:\",var.dtype)\n",
    "print(var)"
   ]
  },
  {
   "cell_type": "code",
   "execution_count": 6,
   "id": "94482446-2b39-46a9-b7b9-20addbd1e12e",
   "metadata": {},
   "outputs": [
    {
     "name": "stdout",
     "output_type": "stream",
     "text": [
      "[1.  2.4 3.7 4.  5. ]\n",
      "data type: float64\n"
     ]
    }
   ],
   "source": [
    "import numpy as np\n",
    "\n",
    "var=np.array([1.0,2.4,3.7,4,5])\n",
    "print(var)\n",
    "print(\"data type:\",var.dtype)"
   ]
  },
  {
   "cell_type": "code",
   "execution_count": 7,
   "id": "ab369b66-f908-41aa-9af4-ba5079cc5a7f",
   "metadata": {},
   "outputs": [
    {
     "name": "stdout",
     "output_type": "stream",
     "text": [
      "['s' 'u' 'f']\n",
      "data type: <U1\n"
     ]
    }
   ],
   "source": [
    "import numpy as np\n",
    "\n",
    "var=np.array(['s','u','f'])\n",
    "print(var)\n",
    "print(\"data type:\",var.dtype)"
   ]
  },
  {
   "cell_type": "code",
   "execution_count": 8,
   "id": "c21d9801-37fc-46fb-b743-94d18a466877",
   "metadata": {},
   "outputs": [
    {
     "name": "stdout",
     "output_type": "stream",
     "text": [
      "['s' 'u' 'f' '1' '2' '3.5']\n",
      "data type: <U32\n"
     ]
    }
   ],
   "source": [
    "import numpy as np\n",
    "\n",
    "var=np.array(['s','u','f',1,2,3.5])\n",
    "print(var)\n",
    "print(\"data type:\",var.dtype)"
   ]
  },
  {
   "cell_type": "code",
   "execution_count": 11,
   "id": "b12ac9b2-b80d-4727-8a43-8d82cb319325",
   "metadata": {},
   "outputs": [
    {
     "name": "stdout",
     "output_type": "stream",
     "text": [
      "int8\n",
      "[1 2 3 4]\n"
     ]
    }
   ],
   "source": [
    "x=np.array([1,2,3,4],dtype=np.int8)\n",
    "\n",
    "print(x.dtype)\n",
    "print(x)"
   ]
  },
  {
   "cell_type": "code",
   "execution_count": 12,
   "id": "836cdc73-fdb5-4b4a-8d1e-7f4128729e86",
   "metadata": {},
   "outputs": [
    {
     "name": "stdout",
     "output_type": "stream",
     "text": [
      "float32\n",
      "[1. 2. 3. 4.]\n"
     ]
    }
   ],
   "source": [
    "x=np.array([1,2,3,4],dtype='f')\n",
    "\n",
    "print(x.dtype)\n",
    "print(x)"
   ]
  },
  {
   "cell_type": "code",
   "execution_count": 15,
   "id": "850437bf-6f46-4cde-9ed8-48cece801cfd",
   "metadata": {},
   "outputs": [
    {
     "name": "stdout",
     "output_type": "stream",
     "text": [
      "x2: int32\n",
      "[1 2 3 4]\n",
      "new: float32\n",
      "[1. 2. 3. 4.]\n"
     ]
    }
   ],
   "source": [
    "x2=np.array([1,2,3,4])\n",
    "new=np.float32(x2)\n",
    "\n",
    "print(\"x2:\",x2.dtype)\n",
    "print(x2)\n",
    "print(\"new:\",new.dtype)\n",
    "print(new)"
   ]
  },
  {
   "cell_type": "code",
   "execution_count": 16,
   "id": "f2727b16-7d0d-436c-9598-054abda3aed4",
   "metadata": {},
   "outputs": [
    {
     "name": "stdout",
     "output_type": "stream",
     "text": [
      "[1 2 3 4]\n",
      "int32\n",
      "x2: int32\n",
      "[1 2 3 4]\n",
      "new: float32\n",
      "[1. 2. 3. 4.]\n"
     ]
    }
   ],
   "source": [
    "x2=np.array([1,2,3,4])\n",
    "new=np.float32(x2)\n",
    "\n",
    "new_one=np.int_(new)\n",
    "print(new_one)\n",
    "print(new_one.dtype)\n",
    "\n",
    "print(\"x2:\",x2.dtype)\n",
    "print(x2)\n",
    "print(\"new:\",new.dtype)\n",
    "print(new)\n"
   ]
  },
  {
   "cell_type": "code",
   "execution_count": 19,
   "id": "05ac692c-dce4-42d5-ab5e-873d5761f22e",
   "metadata": {},
   "outputs": [
    {
     "name": "stdout",
     "output_type": "stream",
     "text": [
      "[1 2 3 4]\n",
      "[1. 2. 3. 4.]\n"
     ]
    }
   ],
   "source": [
    "x3=np.array([1,2,3,4])\n",
    "\n",
    "NEW_1=x3.astype(float)\n",
    "print(x3)\n",
    "print(NEW_1)"
   ]
  },
  {
   "cell_type": "code",
   "execution_count": null,
   "id": "d06f7835-9c26-4047-ba18-04d45c964814",
   "metadata": {},
   "outputs": [],
   "source": []
  }
 ],
 "metadata": {
  "kernelspec": {
   "display_name": "Python 3 (ipykernel)",
   "language": "python",
   "name": "python3"
  },
  "language_info": {
   "codemirror_mode": {
    "name": "ipython",
    "version": 3
   },
   "file_extension": ".py",
   "mimetype": "text/x-python",
   "name": "python",
   "nbconvert_exporter": "python",
   "pygments_lexer": "ipython3",
   "version": "3.12.7"
  }
 },
 "nbformat": 4,
 "nbformat_minor": 5
}
