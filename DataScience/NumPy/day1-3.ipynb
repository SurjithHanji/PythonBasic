{
 "cells": [
  {
   "cell_type": "code",
   "execution_count": 1,
   "id": "8c8d5197-160d-417d-a84f-bf7423302f36",
   "metadata": {},
   "outputs": [
    {
     "name": "stdout",
     "output_type": "stream",
     "text": [
      "Requirement already satisfied: numpy in c:\\users\\surjith s hanji\\anaconda3\\lib\\site-packages (1.26.4)\n",
      "Note: you may need to restart the kernel to use updated packages.\n"
     ]
    }
   ],
   "source": [
    " pip install numpy"
   ]
  },
  {
   "cell_type": "code",
   "execution_count": 6,
   "id": "e861bd3c-ab82-4e7e-bbe2-fd70c77284cd",
   "metadata": {},
   "outputs": [],
   "source": [
    "import numpy as np"
   ]
  },
  {
   "cell_type": "code",
   "execution_count": 10,
   "id": "71414fb4-7208-403e-9fd0-e2bfd2b116b5",
   "metadata": {},
   "outputs": [
    {
     "name": "stdout",
     "output_type": "stream",
     "text": [
      "[1 2 3 4 5]\n",
      "<class 'numpy.ndarray'>\n"
     ]
    }
   ],
   "source": [
    "x=np.array([1,2,3,4,5])#list\n",
    "print(x)\n",
    "\n",
    "print(type(x))"
   ]
  },
  {
   "cell_type": "code",
   "execution_count": 9,
   "id": "21f799d1-62f5-4296-b3ca-2750388eeb53",
   "metadata": {},
   "outputs": [
    {
     "name": "stdout",
     "output_type": "stream",
     "text": [
      "[1, 2, 3, 4, 5]\n",
      "<class 'list'>\n"
     ]
    }
   ],
   "source": [
    "y=[1,2,3,4,5]\n",
    "print(y)\n",
    "\n",
    "print(type(y))"
   ]
  },
  {
   "cell_type": "code",
   "execution_count": 11,
   "id": "5da39ee1-cc91-4134-a16d-cc80ee89fbc0",
   "metadata": {},
   "outputs": [
    {
     "name": "stdout",
     "output_type": "stream",
     "text": [
      "211 ns ± 6.33 ns per loop (mean ± std. dev. of 7 runs, 1,000,000 loops each)\n"
     ]
    }
   ],
   "source": [
    "## time required\n",
    "\n",
    "%timeit [i*4 for i in range(0,4)]"
   ]
  },
  {
   "cell_type": "code",
   "execution_count": 12,
   "id": "48fb00a2-4538-4918-9dc1-59c461235fbe",
   "metadata": {},
   "outputs": [
    {
     "name": "stdout",
     "output_type": "stream",
     "text": [
      "1.47 μs ± 47.8 ns per loop (mean ± std. dev. of 7 runs, 1,000,000 loops each)\n"
     ]
    }
   ],
   "source": [
    "import numpy as np\n",
    "\n",
    "%timeit np.arange(1,9)**4"
   ]
  },
  {
   "cell_type": "code",
   "execution_count": 13,
   "id": "f87bda54-7830-429d-8a3e-f00a020e6a90",
   "metadata": {},
   "outputs": [
    {
     "name": "stdout",
     "output_type": "stream",
     "text": [
      "[1 2 3 4 5 6 7 8]\n"
     ]
    }
   ],
   "source": [
    "print(np.arange(1,9))"
   ]
  },
  {
   "cell_type": "code",
   "execution_count": null,
   "id": "78971ca3-edc2-412a-8492-97e4f8c5f5f2",
   "metadata": {},
   "outputs": [],
   "source": [
    "#######################        ARRAY              ################"
   ]
  },
  {
   "cell_type": "code",
   "execution_count": 18,
   "id": "84dc9a38-3d2a-4f6f-bef3-f93f71445479",
   "metadata": {},
   "outputs": [
    {
     "name": "stdout",
     "output_type": "stream",
     "text": [
      "[1 2 3 4]\n",
      "<class 'numpy.ndarray'>\n",
      "1\n"
     ]
    }
   ],
   "source": [
    "import numpy as np\n",
    "\n",
    "z=[1,2,3,4]\n",
    "y=np.array(z)\n",
    "print(y)\n",
    "print(type(y))\n",
    "\n",
    "print(y.ndim)"
   ]
  },
  {
   "cell_type": "code",
   "execution_count": 17,
   "id": "1b1c4872-e2c4-467f-94e1-1f08bd83acd2",
   "metadata": {},
   "outputs": [
    {
     "name": "stdin",
     "output_type": "stream",
     "text": [
      "enter: 150\n",
      "enter: 160\n",
      "enter: 123\n",
      "enter: 156\n"
     ]
    },
    {
     "name": "stdout",
     "output_type": "stream",
     "text": [
      "[150 160 123 156]\n"
     ]
    }
   ],
   "source": [
    "l=[]\n",
    "for i in range(1,5):\n",
    "    x=int(input(\"enter:\"))\n",
    "    l.append(x)\n",
    "print(np.array(l))"
   ]
  },
  {
   "cell_type": "code",
   "execution_count": null,
   "id": "763ce2c5-14d7-4657-8489-05ef48883389",
   "metadata": {},
   "outputs": [],
   "source": [
    "##################          Different types of Array             #################"
   ]
  },
  {
   "cell_type": "code",
   "execution_count": 19,
   "id": "b5d07b93-64c8-4ed6-8872-68a7a2f8ebb6",
   "metadata": {},
   "outputs": [
    {
     "name": "stdout",
     "output_type": "stream",
     "text": [
      "[[1 2 3 4 5]\n",
      " [1 2 3 4 5]]\n",
      "2\n"
     ]
    }
   ],
   "source": [
    "arr2=np.array([[1,2,3,4,5],[1,2,3,4,5]])\n",
    "print(arr2)\n",
    "print(arr2.ndim)"
   ]
  },
  {
   "cell_type": "code",
   "execution_count": 22,
   "id": "786cc0a3-3ad1-4d82-8ecc-7af09f54adb3",
   "metadata": {},
   "outputs": [
    {
     "name": "stdout",
     "output_type": "stream",
     "text": [
      "[[[1 2 3]\n",
      "  [4 5 6]\n",
      "  [7 8 9]]]\n",
      "3\n"
     ]
    }
   ],
   "source": [
    "arr3=np.array([[[1,2,3],\n",
    "                [4,5,6],\n",
    "                [7,8,9]]])\n",
    "print(arr3)\n",
    "\n",
    "print(arr3.ndim)"
   ]
  },
  {
   "cell_type": "code",
   "execution_count": 24,
   "id": "6d001124-3010-47f0-baf0-2a7539ed970b",
   "metadata": {},
   "outputs": [
    {
     "name": "stdout",
     "output_type": "stream",
     "text": [
      "[[[[[[[[[[1 2 3]]]]]]]]]]\n",
      "10\n"
     ]
    }
   ],
   "source": [
    "arrn=np.array([1,2,3],ndmin=10)\n",
    "print(arrn)\n",
    "print(arrn.ndim)"
   ]
  },
  {
   "cell_type": "code",
   "execution_count": null,
   "id": "e66606d4-8898-44cc-96a6-a84fc4ca6e14",
   "metadata": {},
   "outputs": [],
   "source": []
  }
 ],
 "metadata": {
  "kernelspec": {
   "display_name": "Python 3 (ipykernel)",
   "language": "python",
   "name": "python3"
  },
  "language_info": {
   "codemirror_mode": {
    "name": "ipython",
    "version": 3
   },
   "file_extension": ".py",
   "mimetype": "text/x-python",
   "name": "python",
   "nbconvert_exporter": "python",
   "pygments_lexer": "ipython3",
   "version": "3.12.7"
  }
 },
 "nbformat": 4,
 "nbformat_minor": 5
}
