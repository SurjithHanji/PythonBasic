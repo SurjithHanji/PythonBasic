{
 "cells": [
  {
   "cell_type": "code",
   "execution_count": 1,
   "id": "fbbaaa8a-88e9-4194-a002-a95541724cd6",
   "metadata": {},
   "outputs": [
    {
     "name": "stdout",
     "output_type": "stream",
     "text": [
      "(3+4j)\n",
      "<class 'complex'>\n"
     ]
    }
   ],
   "source": [
    "a=3+4j\n",
    "print(a)\n",
    "print(type(a))"
   ]
  },
  {
   "cell_type": "code",
   "execution_count": 6,
   "id": "351678c5-b426-448e-bbb3-391787665393",
   "metadata": {},
   "outputs": [
    {
     "name": "stdout",
     "output_type": "stream",
     "text": [
      "2\n",
      "2\n"
     ]
    }
   ],
   "source": [
    "s=\"This is Sparta\"\n",
    "print(s.count(\" \"))\n",
    "print(s.count(\"a\"))"
   ]
  },
  {
   "cell_type": "code",
   "execution_count": 5,
   "id": "e12c3ccd-e06a-4405-8161-2a2a97362b8a",
   "metadata": {},
   "outputs": [
    {
     "data": {
      "text/plain": [
       "'It is Sparta'"
      ]
     },
     "execution_count": 5,
     "metadata": {},
     "output_type": "execute_result"
    }
   ],
   "source": [
    "s.replace(\"This\",\"It\")"
   ]
  },
  {
   "cell_type": "code",
   "execution_count": 11,
   "id": "42adf683-27d4-4749-813d-968ac2c92684",
   "metadata": {},
   "outputs": [
    {
     "name": "stdout",
     "output_type": "stream",
     "text": [
      "0\n"
     ]
    },
    {
     "data": {
      "text/plain": [
       "4"
      ]
     },
     "execution_count": 11,
     "metadata": {},
     "output_type": "execute_result"
    }
   ],
   "source": [
    "print(s.find(\"This\"))\n",
    "s.find(\" \")"
   ]
  },
  {
   "cell_type": "code",
   "execution_count": 14,
   "id": "0d1a8486-9173-4ca5-8b56-3f159b801010",
   "metadata": {},
   "outputs": [
    {
     "name": "stdout",
     "output_type": "stream",
     "text": [
      "['modi', 'is', 'prime', 'minister', 'of', 'India']\n"
     ]
    }
   ],
   "source": [
    "st=\"modi is prime minister of India\"\n",
    "print(st.split(\" \"))"
   ]
  },
  {
   "cell_type": "code",
   "execution_count": 16,
   "id": "4ae17637-a797-4974-9b0d-4a33ab254319",
   "metadata": {},
   "outputs": [
    {
     "name": "stdout",
     "output_type": "stream",
     "text": [
      "<class 'tuple'>\n"
     ]
    }
   ],
   "source": [
    "tup=()\n",
    "print(type(tup))"
   ]
  },
  {
   "cell_type": "code",
   "execution_count": 19,
   "id": "c163987d-90b4-4971-a0d3-9df06c4233af",
   "metadata": {},
   "outputs": [
    {
     "name": "stdout",
     "output_type": "stream",
     "text": [
      "(1, 2, 3)\n"
     ]
    }
   ],
   "source": [
    "t=tuple([1,2,3])\n",
    "print(t)"
   ]
  },
  {
   "cell_type": "code",
   "execution_count": 20,
   "id": "426b2a00-ef34-4e9f-bf4a-afe6c626cdf0",
   "metadata": {},
   "outputs": [
    {
     "name": "stdout",
     "output_type": "stream",
     "text": [
      "(1, 'str', True, 9.9)\n",
      "9.9\n"
     ]
    }
   ],
   "source": [
    "tu1=(1,\"str\",True,9.9)\n",
    "print(tu1)\n",
    "print(tu1[-1])"
   ]
  },
  {
   "cell_type": "code",
   "execution_count": 21,
   "id": "68808308-71be-4e5c-836f-4e4314836caf",
   "metadata": {},
   "outputs": [
    {
     "ename": "TypeError",
     "evalue": "'tuple' object does not support item assignment",
     "output_type": "error",
     "traceback": [
      "\u001b[1;31m---------------------------------------------------------------------------\u001b[0m",
      "\u001b[1;31mTypeError\u001b[0m                                 Traceback (most recent call last)",
      "Cell \u001b[1;32mIn[21], line 1\u001b[0m\n\u001b[1;32m----> 1\u001b[0m tu1[\u001b[38;5;241m0\u001b[39m]\u001b[38;5;241m=\u001b[39m\u001b[38;5;124m\"\u001b[39m\u001b[38;5;124mhello\u001b[39m\u001b[38;5;124m\"\u001b[39m\n\u001b[0;32m      2\u001b[0m \u001b[38;5;28mprint\u001b[39m(tu1)\n",
      "\u001b[1;31mTypeError\u001b[0m: 'tuple' object does not support item assignment"
     ]
    }
   ],
   "source": [
    "tu1[0]=\"hello\"\n",
    "print(tu1)"
   ]
  },
  {
   "cell_type": "code",
   "execution_count": 22,
   "id": "dbeb29dd-fc0d-492d-931d-8e392a3ffe4f",
   "metadata": {},
   "outputs": [
    {
     "name": "stdout",
     "output_type": "stream",
     "text": [
      "4\n"
     ]
    }
   ],
   "source": [
    "print(len(tu1))"
   ]
  },
  {
   "cell_type": "code",
   "execution_count": 24,
   "id": "a6e157ed-10f2-4ff2-95a0-7d99114e7261",
   "metadata": {},
   "outputs": [
    {
     "name": "stdout",
     "output_type": "stream",
     "text": [
      "(1, 2, 4, 4, 5, 6)\n",
      "(4, 5, 6, 1, 2, 4)\n"
     ]
    }
   ],
   "source": [
    "t1=(1,2,4)\n",
    "t2=(4,5,6)\n",
    "print(t1+t2)\n",
    "print(t2+t1)"
   ]
  },
  {
   "cell_type": "code",
   "execution_count": 27,
   "id": "ae77d3fd-a6c1-478c-b511-058ccfae9e79",
   "metadata": {},
   "outputs": [
    {
     "name": "stdout",
     "output_type": "stream",
     "text": [
      "hanji hanji hanji hanji hanji hanji hanji \n"
     ]
    }
   ],
   "source": [
    "t3=('hanji '*7)\n",
    "print(t3)"
   ]
  },
  {
   "cell_type": "code",
   "execution_count": 28,
   "id": "21baf899-d69e-4537-aba9-fd0e92896799",
   "metadata": {},
   "outputs": [
    {
     "data": {
      "text/plain": [
       "(1, 2, 4, 1, 2, 4, 1, 2, 4, 1, 2, 4)"
      ]
     },
     "execution_count": 28,
     "metadata": {},
     "output_type": "execute_result"
    }
   ],
   "source": [
    "t1*4"
   ]
  },
  {
   "cell_type": "code",
   "execution_count": 31,
   "id": "f7778e9b-722b-45de-858a-83385746021b",
   "metadata": {},
   "outputs": [
    {
     "name": "stdout",
     "output_type": "stream",
     "text": [
      "4\n"
     ]
    },
    {
     "data": {
      "text/plain": [
       "1"
      ]
     },
     "execution_count": 31,
     "metadata": {},
     "output_type": "execute_result"
    }
   ],
   "source": [
    "print(max(t1))\n",
    "min(t1)"
   ]
  },
  {
   "cell_type": "code",
   "execution_count": 32,
   "id": "2a85c9d0-03b9-4e79-8b2a-07a57385a677",
   "metadata": {},
   "outputs": [
    {
     "name": "stdout",
     "output_type": "stream",
     "text": [
      "[1, 2, 3, 4]\n",
      "<class 'list'>\n"
     ]
    }
   ],
   "source": [
    "li=[1,2,3,4]\n",
    "print(li)\n",
    "print(type(li))"
   ]
  },
  {
   "cell_type": "code",
   "execution_count": 40,
   "id": "75372202-818f-45b0-8e3f-14726f2f1d7d",
   "metadata": {},
   "outputs": [
    {
     "name": "stdout",
     "output_type": "stream",
     "text": [
      "[4, 3, 2, 1]\n"
     ]
    }
   ],
   "source": [
    "li[0:]\n"
   ]
  },
  {
   "cell_type": "code",
   "execution_count": 41,
   "id": "b90a291a-fe78-449d-bb4b-9d57b69e9049",
   "metadata": {},
   "outputs": [
    {
     "name": "stdout",
     "output_type": "stream",
     "text": [
      "[100, 2, 3, 4]\n"
     ]
    }
   ],
   "source": [
    "li[0]=100\n",
    "print(li)"
   ]
  },
  {
   "cell_type": "code",
   "execution_count": 43,
   "id": "0bb5e470-a722-47a4-b9cd-bb2bf3a10d1d",
   "metadata": {},
   "outputs": [
    {
     "name": "stdout",
     "output_type": "stream",
     "text": [
      "[100, 2, 3, 4, 'sparta', 'sparta']\n"
     ]
    }
   ],
   "source": [
    "li.append(\"sparta\")\n",
    "print(li)"
   ]
  },
  {
   "cell_type": "code",
   "execution_count": 44,
   "id": "b1b50ee5-f363-40f4-84fa-72cf19705c14",
   "metadata": {},
   "outputs": [
    {
     "name": "stdout",
     "output_type": "stream",
     "text": [
      "sparta\n"
     ]
    }
   ],
   "source": [
    "print(li.pop())"
   ]
  },
  {
   "cell_type": "code",
   "execution_count": 47,
   "id": "cbb10c58-850e-41e8-915e-d3e8cd23e42d",
   "metadata": {},
   "outputs": [
    {
     "name": "stdout",
     "output_type": "stream",
     "text": [
      "[2, 3, 4, 'sparta']\n"
     ]
    },
    {
     "ename": "ValueError",
     "evalue": "list.remove(x): x not in list",
     "output_type": "error",
     "traceback": [
      "\u001b[1;31m---------------------------------------------------------------------------\u001b[0m",
      "\u001b[1;31mValueError\u001b[0m                                Traceback (most recent call last)",
      "Cell \u001b[1;32mIn[47], line 2\u001b[0m\n\u001b[0;32m      1\u001b[0m \u001b[38;5;28mprint\u001b[39m(li)\n\u001b[1;32m----> 2\u001b[0m li\u001b[38;5;241m.\u001b[39mremove(\u001b[38;5;241m100\u001b[39m)\n",
      "\u001b[1;31mValueError\u001b[0m: list.remove(x): x not in list"
     ]
    }
   ],
   "source": [
    "print(li)\n",
    "li.remove(100)"
   ]
  },
  {
   "cell_type": "code",
   "execution_count": 48,
   "id": "e58be114-17d1-4f3e-9c4b-ca092b506d8c",
   "metadata": {},
   "outputs": [
    {
     "name": "stdout",
     "output_type": "stream",
     "text": [
      "[2, 3, 4, 'sparta']\n"
     ]
    }
   ],
   "source": [
    "print(li)"
   ]
  },
  {
   "cell_type": "code",
   "execution_count": 50,
   "id": "761b6bbc-60b1-40d7-8df6-6e2120c70264",
   "metadata": {},
   "outputs": [
    {
     "name": "stdout",
     "output_type": "stream",
     "text": [
      "None\n",
      "[500, 500, 2, 3, 4, 'sparta']\n"
     ]
    }
   ],
   "source": [
    "print(li.insert(0,500))\n",
    "print(li)"
   ]
  },
  {
   "cell_type": "code",
   "execution_count": 51,
   "id": "1ba08369-8603-4eb2-a04d-1bbc0e8a3e04",
   "metadata": {},
   "outputs": [],
   "source": [
    "li.remove(500)"
   ]
  },
  {
   "cell_type": "code",
   "execution_count": 52,
   "id": "c90494a6-f46e-43ce-b60f-b0a041c73c67",
   "metadata": {},
   "outputs": [
    {
     "data": {
      "text/plain": [
       "[500, 2, 3, 4, 'sparta']"
      ]
     },
     "execution_count": 52,
     "metadata": {},
     "output_type": "execute_result"
    }
   ],
   "source": [
    "li"
   ]
  },
  {
   "cell_type": "code",
   "execution_count": 54,
   "id": "d452e0dc-15d5-40b7-a07b-ecba66ca3a10",
   "metadata": {},
   "outputs": [],
   "source": [
    "li.reverse()"
   ]
  },
  {
   "cell_type": "code",
   "execution_count": 55,
   "id": "a6bc203a-282d-4aa7-a573-965cd12d4178",
   "metadata": {},
   "outputs": [
    {
     "name": "stdout",
     "output_type": "stream",
     "text": [
      "['sparta', 500, 4, 3, 2]\n"
     ]
    }
   ],
   "source": [
    "print(li)"
   ]
  },
  {
   "cell_type": "code",
   "execution_count": 57,
   "id": "e42f02c6-f22f-428e-8943-23ba65feaf63",
   "metadata": {},
   "outputs": [
    {
     "name": "stdout",
     "output_type": "stream",
     "text": [
      "[1, 2, 3, 'a', 'b', 'c']\n"
     ]
    }
   ],
   "source": [
    "l1=[1,2,3]\n",
    "l2=[\"a\",\"b\",\"c\"]\n",
    "print(l1+l2)"
   ]
  },
  {
   "cell_type": "code",
   "execution_count": 59,
   "id": "752cf3ee-3271-4f0b-89e8-79ad8a98126c",
   "metadata": {},
   "outputs": [
    {
     "name": "stdout",
     "output_type": "stream",
     "text": [
      "None\n"
     ]
    }
   ],
   "source": [
    "print(l1.append(l2))"
   ]
  },
  {
   "cell_type": "code",
   "execution_count": 60,
   "id": "446e79bf-e322-450b-89d8-775a411120f9",
   "metadata": {},
   "outputs": [
    {
     "data": {
      "text/plain": [
       "[1, 2, 3, ['a', 'b', 'c']]"
      ]
     },
     "execution_count": 60,
     "metadata": {},
     "output_type": "execute_result"
    }
   ],
   "source": [
    "l1"
   ]
  },
  {
   "cell_type": "code",
   "execution_count": null,
   "id": "43fb9bc7-834f-4243-8d2d-136a690fc954",
   "metadata": {},
   "outputs": [],
   "source": []
  }
 ],
 "metadata": {
  "kernelspec": {
   "display_name": "Python 3 (ipykernel)",
   "language": "python",
   "name": "python3"
  },
  "language_info": {
   "codemirror_mode": {
    "name": "ipython",
    "version": 3
   },
   "file_extension": ".py",
   "mimetype": "text/x-python",
   "name": "python",
   "nbconvert_exporter": "python",
   "pygments_lexer": "ipython3",
   "version": "3.12.7"
  }
 },
 "nbformat": 4,
 "nbformat_minor": 5
}
