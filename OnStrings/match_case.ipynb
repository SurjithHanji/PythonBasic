{
 "cells": [
  {
   "cell_type": "code",
   "execution_count": 2,
   "id": "d492ad98-33b6-428d-bb6f-99e781dd07c1",
   "metadata": {},
   "outputs": [
    {
     "name": "stdout",
     "output_type": "stream",
     "text": [
      "srih\n"
     ]
    }
   ],
   "source": [
    "name=\"surjith\"\n",
    "print(name[0::2])"
   ]
  },
  {
   "cell_type": "code",
   "execution_count": 4,
   "id": "0def5aca-6efc-431b-9d3c-d9e460b5c959",
   "metadata": {},
   "outputs": [
    {
     "data": {
      "text/plain": [
       "'surjith'"
      ]
     },
     "execution_count": 4,
     "metadata": {},
     "output_type": "execute_result"
    }
   ],
   "source": [
    "name"
   ]
  },
  {
   "cell_type": "code",
   "execution_count": 5,
   "id": "bd977041-5e14-41b2-ac65-41ca4d602c40",
   "metadata": {},
   "outputs": [
    {
     "data": {
      "text/plain": [
       "'SURJITH'"
      ]
     },
     "execution_count": 5,
     "metadata": {},
     "output_type": "execute_result"
    }
   ],
   "source": [
    "name.upper()"
   ]
  },
  {
   "cell_type": "code",
   "execution_count": 6,
   "id": "3b6e075b-0206-4159-bccf-18a5a6171d57",
   "metadata": {},
   "outputs": [
    {
     "data": {
      "text/plain": [
       "'surjith'"
      ]
     },
     "execution_count": 6,
     "metadata": {},
     "output_type": "execute_result"
    }
   ],
   "source": [
    "name.lower()"
   ]
  },
  {
   "cell_type": "code",
   "execution_count": 7,
   "id": "ccdd484d-5c55-46b3-a995-55c393bd0704",
   "metadata": {},
   "outputs": [
    {
     "data": {
      "text/plain": [
       "False"
      ]
     },
     "execution_count": 7,
     "metadata": {},
     "output_type": "execute_result"
    }
   ],
   "source": [
    "name.endswith(\"hey\")"
   ]
  },
  {
   "cell_type": "code",
   "execution_count": 9,
   "id": "185bba0f-5f55-4dec-a065-82bf9689a555",
   "metadata": {},
   "outputs": [
    {
     "data": {
      "text/plain": [
       "True"
      ]
     },
     "execution_count": 9,
     "metadata": {},
     "output_type": "execute_result"
    }
   ],
   "source": [
    "name.startswith(\"sur\")"
   ]
  },
  {
   "cell_type": "code",
   "execution_count": 10,
   "id": "750b3280-e7db-4ee9-8ff4-198ed32d60b5",
   "metadata": {},
   "outputs": [
    {
     "data": {
      "text/plain": [
       "1"
      ]
     },
     "execution_count": 10,
     "metadata": {},
     "output_type": "execute_result"
    }
   ],
   "source": [
    "name.count('j')"
   ]
  },
  {
   "cell_type": "code",
   "execution_count": 11,
   "id": "d87d7d9b-a533-4a26-8730-dab6a19b00e3",
   "metadata": {},
   "outputs": [
    {
     "data": {
      "text/plain": [
       "7"
      ]
     },
     "execution_count": 11,
     "metadata": {},
     "output_type": "execute_result"
    }
   ],
   "source": [
    "len(name)"
   ]
  },
  {
   "cell_type": "code",
   "execution_count": 12,
   "id": "908b54c5-abbc-4662-b57a-8d539601482b",
   "metadata": {},
   "outputs": [
    {
     "data": {
      "text/plain": [
       "'surjith'"
      ]
     },
     "execution_count": 12,
     "metadata": {},
     "output_type": "execute_result"
    }
   ],
   "source": [
    "name.strip()"
   ]
  },
  {
   "cell_type": "code",
   "execution_count": 19,
   "id": "d7b2eefa-77ba-4515-b13f-d0813554e1ae",
   "metadata": {},
   "outputs": [
    {
     "data": {
      "text/plain": [
       "['s', 'rjith']"
      ]
     },
     "execution_count": 19,
     "metadata": {},
     "output_type": "execute_result"
    }
   ],
   "source": [
    "name.split('u')"
   ]
  },
  {
   "cell_type": "raw",
   "id": "41598f35-8bab-4ebe-a2d8-9b20619a6272",
   "metadata": {},
   "source": []
  },
  {
   "cell_type": "code",
   "execution_count": 20,
   "id": "976344f2-5ae1-4325-862c-837ca05cc69b",
   "metadata": {},
   "outputs": [
    {
     "name": "stdout",
     "output_type": "stream",
     "text": [
      "['s', 'u', 'r', 'j', 'i', 't', 'h']\n"
     ]
    }
   ],
   "source": [
    "print(list(\"surjith\"))"
   ]
  },
  {
   "cell_type": "code",
   "execution_count": 21,
   "id": "6095911e-bc21-497c-bb22-52680655b22c",
   "metadata": {},
   "outputs": [
    {
     "data": {
      "text/plain": [
       "'surjit'"
      ]
     },
     "execution_count": 21,
     "metadata": {},
     "output_type": "execute_result"
    }
   ],
   "source": [
    "name[0:-1]"
   ]
  },
  {
   "cell_type": "code",
   "execution_count": 24,
   "id": "5610f98f-6856-4b93-a33c-df782e90a702",
   "metadata": {},
   "outputs": [
    {
     "data": {
      "text/plain": [
       "['hti', 'ru']"
      ]
     },
     "execution_count": 24,
     "metadata": {},
     "output_type": "execute_result"
    }
   ],
   "source": [
    "name[-1:0:-1]"
   ]
  },
  {
   "cell_type": "code",
   "execution_count": null,
   "id": "25220a29-600f-469e-9bcf-07ea70052d49",
   "metadata": {},
   "outputs": [],
   "source": []
  }
 ],
 "metadata": {
  "kernelspec": {
   "display_name": "Python 3 (ipykernel)",
   "language": "python",
   "name": "python3"
  },
  "language_info": {
   "codemirror_mode": {
    "name": "ipython",
    "version": 3
   },
   "file_extension": ".py",
   "mimetype": "text/x-python",
   "name": "python",
   "nbconvert_exporter": "python",
   "pygments_lexer": "ipython3",
   "version": "3.12.7"
  }
 },
 "nbformat": 4,
 "nbformat_minor": 5
}
