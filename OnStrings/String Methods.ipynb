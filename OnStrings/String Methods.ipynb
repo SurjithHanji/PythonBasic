{
 "cells": [
  {
   "cell_type": "code",
   "execution_count": 1,
   "id": "446965af-928e-4adb-adb8-0d487e084c55",
   "metadata": {},
   "outputs": [
    {
     "name": "stdout",
     "output_type": "stream",
     "text": [
      "hlo\n"
     ]
    }
   ],
   "source": [
    "print(\"hlo\")"
   ]
  },
  {
   "cell_type": "code",
   "execution_count": 3,
   "id": "f3479c81-323a-48e7-b0f5-c8b67f01ce2e",
   "metadata": {},
   "outputs": [
    {
     "ename": "TypeError",
     "evalue": "'str' object does not support item assignment",
     "output_type": "error",
     "traceback": [
      "\u001b[1;31m---------------------------------------------------------------------------\u001b[0m",
      "\u001b[1;31mTypeError\u001b[0m                                 Traceback (most recent call last)",
      "Cell \u001b[1;32mIn[3], line 2\u001b[0m\n\u001b[0;32m      1\u001b[0m name\u001b[38;5;241m=\u001b[39m\u001b[38;5;124m\"\u001b[39m\u001b[38;5;124msurjith\u001b[39m\u001b[38;5;124m\"\u001b[39m\n\u001b[1;32m----> 2\u001b[0m name[\u001b[38;5;241m0\u001b[39m]\u001b[38;5;241m=\u001b[39m\u001b[38;5;124m\"\u001b[39m\u001b[38;5;124mU\u001b[39m\u001b[38;5;124m\"\u001b[39m\n\u001b[0;32m      3\u001b[0m \u001b[38;5;28mprint\u001b[39m(name)\n",
      "\u001b[1;31mTypeError\u001b[0m: 'str' object does not support item assignment"
     ]
    }
   ],
   "source": [
    "name=\"surjith\"\n",
    "name[0]=\"U\"\n",
    "print(name)"
   ]
  },
  {
   "cell_type": "code",
   "execution_count": 5,
   "id": "b7a670dd-3090-4d23-a5dd-85d76aafd67f",
   "metadata": {},
   "outputs": [
    {
     "name": "stdout",
     "output_type": "stream",
     "text": [
      "7\n"
     ]
    }
   ],
   "source": [
    "print(len(name))"
   ]
  },
  {
   "cell_type": "code",
   "execution_count": 6,
   "id": "d353674e-4366-4a66-914c-b73ca8fca7ca",
   "metadata": {},
   "outputs": [
    {
     "name": "stdout",
     "output_type": "stream",
     "text": [
      "SURJITH\n",
      "surjith\n",
      "False\n",
      "True\n"
     ]
    }
   ],
   "source": [
    "print(name.upper(),name.lower(),name.isupper(),name.islower(),sep=\"\\n\")"
   ]
  },
  {
   "cell_type": "code",
   "execution_count": 9,
   "id": "c30c5e9c-3d93-4aa3-849a-8003841d509a",
   "metadata": {},
   "outputs": [
    {
     "name": "stdout",
     "output_type": "stream",
     "text": [
      " my name is surjith\n",
      " My Name Is Surjith\n"
     ]
    }
   ],
   "source": [
    "s=\" my name is surjith\"\n",
    "print(s.capitalize())\n",
    "print(s.title())"
   ]
  },
  {
   "cell_type": "code",
   "execution_count": 12,
   "id": "7219f20f-025e-4036-9783-390aed49d983",
   "metadata": {},
   "outputs": [
    {
     "name": "stdout",
     "output_type": "stream",
     "text": [
      "my name is surjith          \n",
      "my name is surjith\n",
      " my name is surjith\n"
     ]
    }
   ],
   "source": [
    "s=\" my name is surjith          \"\n",
    "print(s.lstrip())\n",
    "print(s.strip())\n",
    "print(s.rstrip())"
   ]
  },
  {
   "cell_type": "code",
   "execution_count": 14,
   "id": "881bbeed-ab99-463b-835c-279e1f11800b",
   "metadata": {},
   "outputs": [
    {
     "name": "stdout",
     "output_type": "stream",
     "text": [
      "7\n"
     ]
    }
   ],
   "source": [
    "tex='python is fun'\n",
    "print(tex.find(\"is\"))"
   ]
  },
  {
   "cell_type": "code",
   "execution_count": 15,
   "id": "77a6f248-94e4-451d-953e-e0227f8431d5",
   "metadata": {},
   "outputs": [
    {
     "name": "stdout",
     "output_type": "stream",
     "text": [
      "python is awesome\n"
     ]
    }
   ],
   "source": [
    "print(tex.replace(\"fun\",'awesome'))"
   ]
  },
  {
   "cell_type": "code",
   "execution_count": 18,
   "id": "2d6832ce-0ec6-4450-9dd5-60c87a2ae073",
   "metadata": {},
   "outputs": [
    {
     "name": "stdout",
     "output_type": "stream",
     "text": [
      "[' my', 'name', 'is', 'surjith']\n"
     ]
    }
   ],
   "source": [
    "s=\" my,name,is,surjith\"\n",
    "print(s.split(\",\"))"
   ]
  },
  {
   "cell_type": "code",
   "execution_count": 20,
   "id": "7bd31a71-3fc4-4eed-bfb2-297ceeb07aa5",
   "metadata": {},
   "outputs": [
    {
     "name": "stdout",
     "output_type": "stream",
     "text": [
      " my,name,is,surjith\n"
     ]
    }
   ],
   "source": [
    "print(\",\".join([' my', 'name', 'is', 'surjith']))"
   ]
  },
  {
   "cell_type": "code",
   "execution_count": 21,
   "id": "ece50a9e-c5f2-4923-b10a-3953e7baa94f",
   "metadata": {},
   "outputs": [
    {
     "name": "stdout",
     "output_type": "stream",
     "text": [
      "False\n",
      "False\n",
      "True\n",
      "False\n"
     ]
    }
   ],
   "source": [
    "s=\"python123\"\n",
    "print(s.isalpha())\n",
    "print(s.isdigit())\n",
    "print(s.isalnum())\n",
    "print(s.isspace())"
   ]
  },
  {
   "cell_type": "markdown",
   "id": "1660a34f-854e-402c-99af-3854dbb58f01",
   "metadata": {},
   "source": [
    "F strings"
   ]
  },
  {
   "cell_type": "code",
   "execution_count": 23,
   "id": "fbd8a16b-0e92-4178-adaa-a556606e0bdc",
   "metadata": {},
   "outputs": [
    {
     "name": "stdout",
     "output_type": "stream",
     "text": [
      "dear abhi , you are awesome . take this 10000$ bag\n",
      "dear abhi , you are awesome . take this 10000$ bag\n"
     ]
    }
   ],
   "source": [
    "temp=\"dear {} , you are awesome . take this {}$ bag\"\n",
    "a=\"abhi\"\n",
    "a1=10000\n",
    "b=\"navi\"\n",
    "b1=1000\n",
    "c=\"pavi\"\n",
    "c1=300\n",
    "\n",
    "s1=temp.format(a,a1)\n",
    "print(s1)\n",
    "\n",
    "print(f\"dear {a} , you are awesome . take this {a1}$ bag\")\n"
   ]
  }
 ],
 "metadata": {
  "kernelspec": {
   "display_name": "Python 3 (ipykernel)",
   "language": "python",
   "name": "python3"
  },
  "language_info": {
   "codemirror_mode": {
    "name": "ipython",
    "version": 3
   },
   "file_extension": ".py",
   "mimetype": "text/x-python",
   "name": "python",
   "nbconvert_exporter": "python",
   "pygments_lexer": "ipython3",
   "version": "3.12.7"
  }
 },
 "nbformat": 4,
 "nbformat_minor": 5
}
